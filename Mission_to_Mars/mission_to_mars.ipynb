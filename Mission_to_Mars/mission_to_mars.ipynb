{
 "cells": [
  {
   "cell_type": "code",
   "execution_count": 1,
   "id": "34d660e5",
   "metadata": {},
   "outputs": [],
   "source": [
    "from bs4 import BeautifulSoup as bs\n",
    "import requests\n",
    "import pandas as pd\n",
    "import pymongo\n",
    "import json\n",
    "\n",
    "# tool for browsing with Spliter\n",
    "from webdriver_manager.chrome import ChromeDriverManager\n",
    "from splinter import Browser"
   ]
  },
  {
   "cell_type": "code",
   "execution_count": 2,
   "id": "ce7c43d4",
   "metadata": {},
   "outputs": [],
   "source": [
    "# Initialize Pymongo to work with mongoDBs\n",
    "conn = 'mongodb://localhost:27017'\n",
    "client = pymongo.MongoClient(conn)"
   ]
  },
  {
   "cell_type": "markdown",
   "id": "b6560782",
   "metadata": {},
   "source": [
    "### Scrape for latest new title and text paragraph"
   ]
  },
  {
   "cell_type": "code",
   "execution_count": 3,
   "id": "4da55ba4",
   "metadata": {},
   "outputs": [],
   "source": [
    "news_url = 'https://mars.nasa.gov/news/'\n",
    "response = requests.get(news_url)\n",
    "\n",
    "# creat bs object\n",
    "soup = bs(response.text, 'html.parser')"
   ]
  },
  {
   "cell_type": "code",
   "execution_count": 4,
   "id": "53c84f6c",
   "metadata": {},
   "outputs": [],
   "source": [
    "title_result = soup.find('div', class_='content_title')\n",
    "news_title = title_result.text"
   ]
  },
  {
   "cell_type": "code",
   "execution_count": 5,
   "id": "9776abab",
   "metadata": {},
   "outputs": [],
   "source": [
    "teaser_result = soup.find('div', class_='rollover_description_inner')\n",
    "teaser_para = teaser_result.text"
   ]
  },
  {
   "cell_type": "markdown",
   "id": "2bb4ed9f",
   "metadata": {},
   "source": [
    "### JPL Mars image--feature image"
   ]
  },
  {
   "cell_type": "code",
   "execution_count": 6,
   "id": "f0f38cbe",
   "metadata": {},
   "outputs": [
    {
     "name": "stderr",
     "output_type": "stream",
     "text": [
      "\n",
      "\n",
      "====== WebDriver manager ======\n",
      "Current google-chrome version is 96.0.4664\n",
      "Get LATEST chromedriver version for 96.0.4664 google-chrome\n",
      "Driver [/Users/kaipham/.wdm/drivers/chromedriver/mac64/96.0.4664.45/chromedriver] found in cache\n"
     ]
    }
   ],
   "source": [
    "# Set up Splinter\n",
    "executable_path = {'executable_path': ChromeDriverManager().install()}\n",
    "browser = Browser('chrome', **executable_path, headless = False)"
   ]
  },
  {
   "cell_type": "code",
   "execution_count": 7,
   "id": "d776c7cd",
   "metadata": {},
   "outputs": [],
   "source": [
    "# browse the link \n",
    "img_url = 'https://spaceimages-mars.com/'\n",
    "browser.visit(img_url)"
   ]
  },
  {
   "cell_type": "code",
   "execution_count": 8,
   "id": "65ef47bf",
   "metadata": {},
   "outputs": [],
   "source": [
    "html = browser.html\n",
    "soup = bs(html, 'html.parser')\n",
    "\n",
    "# print(soup.prettify())"
   ]
  },
  {
   "cell_type": "code",
   "execution_count": 9,
   "id": "30cf8f28",
   "metadata": {},
   "outputs": [],
   "source": [
    "# click on the buttone \"Full image\"\n",
    "# when it clicked the variable <html> also move to the new page, because the action if apply onto <browser>\n",
    "browser.links.find_by_partial_text('FULL IMAGE').click()\n"
   ]
  },
  {
   "cell_type": "code",
   "execution_count": 10,
   "id": "a81f0670",
   "metadata": {},
   "outputs": [],
   "source": [
    "html = browser.html\n",
    "soup = bs(html, 'html.parser')"
   ]
  },
  {
   "cell_type": "code",
   "execution_count": 11,
   "id": "2fa5feda",
   "metadata": {},
   "outputs": [
    {
     "data": {
      "text/plain": [
       "'image/featured/mars1.jpg'"
      ]
     },
     "execution_count": 11,
     "metadata": {},
     "output_type": "execute_result"
    }
   ],
   "source": [
    "soup.find('img', class_='fancybox-image')['src']"
   ]
  },
  {
   "cell_type": "code",
   "execution_count": 12,
   "id": "b7cea58b",
   "metadata": {},
   "outputs": [],
   "source": [
    "# Store the image url into a variable\n",
    "feature_image_url = f\"{img_url}{soup.find('img', class_='fancybox-image')['src']}\""
   ]
  },
  {
   "cell_type": "markdown",
   "id": "d08b6920",
   "metadata": {},
   "source": [
    "### Mars Facts with Pandas Scraping (read_html)"
   ]
  },
  {
   "cell_type": "code",
   "execution_count": 13,
   "id": "d7c9419d",
   "metadata": {},
   "outputs": [],
   "source": [
    "fact_url = 'https://galaxyfacts-mars.com/'"
   ]
  },
  {
   "cell_type": "code",
   "execution_count": 14,
   "id": "c2266c01",
   "metadata": {},
   "outputs": [],
   "source": [
    "tables = pd.read_html(fact_url)"
   ]
  },
  {
   "cell_type": "code",
   "execution_count": 15,
   "id": "c258bb28",
   "metadata": {},
   "outputs": [],
   "source": [
    "mars_facts_df = tables[1]\n",
    "mars_facts_df.columns = [\"Entities\", \"Info\"]"
   ]
  },
  {
   "cell_type": "code",
   "execution_count": 16,
   "id": "6e6d5442",
   "metadata": {},
   "outputs": [
    {
     "data": {
      "text/html": [
       "<div>\n",
       "<style scoped>\n",
       "    .dataframe tbody tr th:only-of-type {\n",
       "        vertical-align: middle;\n",
       "    }\n",
       "\n",
       "    .dataframe tbody tr th {\n",
       "        vertical-align: top;\n",
       "    }\n",
       "\n",
       "    .dataframe thead th {\n",
       "        text-align: right;\n",
       "    }\n",
       "</style>\n",
       "<table border=\"1\" class=\"dataframe\">\n",
       "  <thead>\n",
       "    <tr style=\"text-align: right;\">\n",
       "      <th></th>\n",
       "      <th>0</th>\n",
       "      <th>1</th>\n",
       "      <th>2</th>\n",
       "    </tr>\n",
       "  </thead>\n",
       "  <tbody>\n",
       "    <tr>\n",
       "      <th>0</th>\n",
       "      <td>Mars - Earth Comparison</td>\n",
       "      <td>Mars</td>\n",
       "      <td>Earth</td>\n",
       "    </tr>\n",
       "    <tr>\n",
       "      <th>1</th>\n",
       "      <td>Diameter:</td>\n",
       "      <td>6,779 km</td>\n",
       "      <td>12,742 km</td>\n",
       "    </tr>\n",
       "    <tr>\n",
       "      <th>2</th>\n",
       "      <td>Mass:</td>\n",
       "      <td>6.39 × 10^23 kg</td>\n",
       "      <td>5.97 × 10^24 kg</td>\n",
       "    </tr>\n",
       "    <tr>\n",
       "      <th>3</th>\n",
       "      <td>Moons:</td>\n",
       "      <td>2</td>\n",
       "      <td>1</td>\n",
       "    </tr>\n",
       "    <tr>\n",
       "      <th>4</th>\n",
       "      <td>Distance from Sun:</td>\n",
       "      <td>227,943,824 km</td>\n",
       "      <td>149,598,262 km</td>\n",
       "    </tr>\n",
       "    <tr>\n",
       "      <th>5</th>\n",
       "      <td>Length of Year:</td>\n",
       "      <td>687 Earth days</td>\n",
       "      <td>365.24 days</td>\n",
       "    </tr>\n",
       "    <tr>\n",
       "      <th>6</th>\n",
       "      <td>Temperature:</td>\n",
       "      <td>-87 to -5 °C</td>\n",
       "      <td>-88 to 58°C</td>\n",
       "    </tr>\n",
       "  </tbody>\n",
       "</table>\n",
       "</div>"
      ],
      "text/plain": [
       "                         0                1                2\n",
       "0  Mars - Earth Comparison             Mars            Earth\n",
       "1                Diameter:         6,779 km        12,742 km\n",
       "2                    Mass:  6.39 × 10^23 kg  5.97 × 10^24 kg\n",
       "3                   Moons:                2                1\n",
       "4       Distance from Sun:   227,943,824 km   149,598,262 km\n",
       "5          Length of Year:   687 Earth days      365.24 days\n",
       "6             Temperature:     -87 to -5 °C      -88 to 58°C"
      ]
     },
     "execution_count": 16,
     "metadata": {},
     "output_type": "execute_result"
    }
   ],
   "source": [
    "mars_earth_df = tables[0]\n",
    "mars_earth_df"
   ]
  },
  {
   "cell_type": "code",
   "execution_count": 38,
   "id": "ba838d11",
   "metadata": {},
   "outputs": [
    {
     "data": {
      "text/html": [
       "<div>\n",
       "<style scoped>\n",
       "    .dataframe tbody tr th:only-of-type {\n",
       "        vertical-align: middle;\n",
       "    }\n",
       "\n",
       "    .dataframe tbody tr th {\n",
       "        vertical-align: top;\n",
       "    }\n",
       "\n",
       "    .dataframe thead th {\n",
       "        text-align: right;\n",
       "    }\n",
       "</style>\n",
       "<table border=\"1\" class=\"dataframe\">\n",
       "  <thead>\n",
       "    <tr style=\"text-align: right;\">\n",
       "      <th></th>\n",
       "      <th>Mars - Earth Comparision</th>\n",
       "      <th>Mars</th>\n",
       "      <th>Earth</th>\n",
       "    </tr>\n",
       "  </thead>\n",
       "  <tbody>\n",
       "    <tr>\n",
       "      <th>1</th>\n",
       "      <td>Diameter:</td>\n",
       "      <td>6,779 km</td>\n",
       "      <td>12,742 km</td>\n",
       "    </tr>\n",
       "    <tr>\n",
       "      <th>2</th>\n",
       "      <td>Mass:</td>\n",
       "      <td>6.39 × 10^23 kg</td>\n",
       "      <td>5.97 × 10^24 kg</td>\n",
       "    </tr>\n",
       "    <tr>\n",
       "      <th>3</th>\n",
       "      <td>Moons:</td>\n",
       "      <td>2</td>\n",
       "      <td>1</td>\n",
       "    </tr>\n",
       "    <tr>\n",
       "      <th>4</th>\n",
       "      <td>Distance from Sun:</td>\n",
       "      <td>227,943,824 km</td>\n",
       "      <td>149,598,262 km</td>\n",
       "    </tr>\n",
       "    <tr>\n",
       "      <th>5</th>\n",
       "      <td>Length of Year:</td>\n",
       "      <td>687 Earth days</td>\n",
       "      <td>365.24 days</td>\n",
       "    </tr>\n",
       "    <tr>\n",
       "      <th>6</th>\n",
       "      <td>Temperature:</td>\n",
       "      <td>-87 to -5 °C</td>\n",
       "      <td>-88 to 58°C</td>\n",
       "    </tr>\n",
       "  </tbody>\n",
       "</table>\n",
       "</div>"
      ],
      "text/plain": [
       "  Mars - Earth Comparision             Mars            Earth\n",
       "1                Diameter:         6,779 km        12,742 km\n",
       "2                    Mass:  6.39 × 10^23 kg  5.97 × 10^24 kg\n",
       "3                   Moons:                2                1\n",
       "4       Distance from Sun:   227,943,824 km   149,598,262 km\n",
       "5          Length of Year:   687 Earth days      365.24 days\n",
       "6             Temperature:     -87 to -5 °C      -88 to 58°C"
      ]
     },
     "execution_count": 38,
     "metadata": {},
     "output_type": "execute_result"
    }
   ],
   "source": [
    "mars_earth_df.columns=['Mars - Earth Comparision','Mars','Earth']\n",
    "mars_earth_df.drop(0, axis=0)"
   ]
  },
  {
   "cell_type": "code",
   "execution_count": 41,
   "id": "af6da239",
   "metadata": {},
   "outputs": [
    {
     "data": {
      "text/plain": [
       "'[{\"Mars - Earth Comparision\": \"Mars - Earth Comparison\", \"Mars\": \"Mars\", \"Earth\": \"Earth\"}, {\"Mars - Earth Comparision\": \"Diameter:\", \"Mars\": \"6,779 km\", \"Earth\": \"12,742 km\"}, {\"Mars - Earth Comparision\": \"Mass:\", \"Mars\": \"6.39 \\\\u00d7 10^23 kg\", \"Earth\": \"5.97 \\\\u00d7 10^24 kg\"}, {\"Mars - Earth Comparision\": \"Moons:\", \"Mars\": \"2\", \"Earth\": \"1\"}, {\"Mars - Earth Comparision\": \"Distance from Sun:\", \"Mars\": \"227,943,824 km\", \"Earth\": \"149,598,262 km\"}, {\"Mars - Earth Comparision\": \"Length of Year:\", \"Mars\": \"687 Earth days\", \"Earth\": \"365.24 days\"}, {\"Mars - Earth Comparision\": \"Temperature:\", \"Mars\": \"-87 to -5 \\\\u00b0C\", \"Earth\": \"-88 to 58\\\\u00b0C\"}]'"
      ]
     },
     "execution_count": 41,
     "metadata": {},
     "output_type": "execute_result"
    }
   ],
   "source": [
    "# convert this table into json\n",
    "mar_earth_json_df = mars_earth_df.to_json(orient=\"records\")\n",
    "parsed = json.loads(result)\n",
    "json.dumps(parsed)"
   ]
  },
  {
   "cell_type": "markdown",
   "id": "b5a3734e",
   "metadata": {},
   "source": [
    "### Mars Hamispheres"
   ]
  },
  {
   "cell_type": "code",
   "execution_count": null,
   "id": "4d2f112d",
   "metadata": {},
   "outputs": [],
   "source": [
    "hami_url = 'https://marshemispheres.com/'"
   ]
  },
  {
   "cell_type": "code",
   "execution_count": null,
   "id": "802378ee",
   "metadata": {},
   "outputs": [],
   "source": [
    "browser.visit(hami_url)"
   ]
  },
  {
   "cell_type": "code",
   "execution_count": null,
   "id": "50d1e26e",
   "metadata": {},
   "outputs": [],
   "source": [
    "# save the list of links that have the word \"Enhanced\" into the list\n",
    "links_found = browser.links.find_by_partial_text('Enhanced')"
   ]
  },
  {
   "cell_type": "code",
   "execution_count": null,
   "id": "7845b850",
   "metadata": {},
   "outputs": [],
   "source": [
    "type(links_found)"
   ]
  },
  {
   "cell_type": "markdown",
   "id": "a8d63605",
   "metadata": {},
   "source": [
    "### Teeeeesting out the step-by-step to find out algorithm"
   ]
  },
  {
   "cell_type": "code",
   "execution_count": null,
   "id": "b309b4c5",
   "metadata": {},
   "outputs": [],
   "source": [
    "print(links_found[2])"
   ]
  },
  {
   "cell_type": "code",
   "execution_count": null,
   "id": "6e8c361f",
   "metadata": {},
   "outputs": [],
   "source": [
    "# click on the link #2\n",
    "links_found[].click()"
   ]
  },
  {
   "cell_type": "code",
   "execution_count": null,
   "id": "991dc61a",
   "metadata": {},
   "outputs": [],
   "source": [
    "# click on the word \"Sample\"\n",
    "browser.links.find_by_text('Sample').click()"
   ]
  },
  {
   "cell_type": "code",
   "execution_count": null,
   "id": "065ba204",
   "metadata": {},
   "outputs": [],
   "source": [
    "# Bring the Browser session into the second tab, \n",
    "# so we can start scraping on that page (the page that contain JPG file)\n",
    "browser.windows.current = browser.windows[1]"
   ]
  },
  {
   "cell_type": "code",
   "execution_count": null,
   "id": "654d0733",
   "metadata": {},
   "outputs": [],
   "source": [
    "# create soup object to start scraping\n",
    "html = browser.html\n",
    "soup = bs(html, 'html.parser')"
   ]
  },
  {
   "cell_type": "code",
   "execution_count": null,
   "id": "b9a7097c",
   "metadata": {},
   "outputs": [],
   "source": [
    "# finding the the actual tag that contain the image url\n",
    "soup.find('img')['src']"
   ]
  },
  {
   "cell_type": "code",
   "execution_count": null,
   "id": "608578d1",
   "metadata": {},
   "outputs": [],
   "source": [
    "# bring the window back to the first page and close all other window\n",
    "window = browser.windows[0]\n",
    "window.close_others()"
   ]
  },
  {
   "cell_type": "code",
   "execution_count": null,
   "id": "47f5d201",
   "metadata": {},
   "outputs": [],
   "source": [
    "# bring the Browser session back to first window\n",
    "browser.windows.current = browser.windows[0]"
   ]
  },
  {
   "cell_type": "markdown",
   "id": "77000286",
   "metadata": {},
   "source": [
    "### Finissssssssshhh testing"
   ]
  },
  {
   "cell_type": "code",
   "execution_count": null,
   "id": "6b2df06f",
   "metadata": {},
   "outputs": [],
   "source": [
    "image_urls = []"
   ]
  },
  {
   "cell_type": "code",
   "execution_count": null,
   "id": "23273937",
   "metadata": {},
   "outputs": [],
   "source": [
    "for i in range(4): \n",
    "#     click on the link with associate order of i\n",
    "    links_found[i].click()\n",
    "    \n",
    "#     find the word 'Enhanced' and click on the link\n",
    "    browser.links.find_by_text('Sample').click()\n",
    "    \n",
    "#     the click on the link pop-up another window\n",
    "#     Therefore, need to bring the current session to second window\n",
    "    browser.windows.current = browser.windows[1]\n",
    "    \n",
    "#     reset html variable and soup variable, cuz at the end the whole found_links list is changed\n",
    "    html = browser.html\n",
    "    soup = bs(html, 'html.parser')\n",
    "    \n",
    "#     save the url into image variable\n",
    "    image = soup.find('img')['src']\n",
    "#     save the link into list/dictioary as needed\n",
    "    image_urls.append(image)\n",
    "    \n",
    "    \n",
    "#     back to the first window\n",
    "    window = browser.windows[0]\n",
    "#     close all other window\n",
    "    window.close_others()\n",
    "#     bring the browser session back to first window\n",
    "    browser.windows.current = browser.windows[0]\n",
    "    \n",
    "#     get back to the main page with hami_url on the first window\n",
    "    browser.visit(hami_url)\n",
    "#     find all the links with 'Enhanced' again\n",
    "    links_found = browser.links.find_by_partial_text('Enhanced')"
   ]
  },
  {
   "cell_type": "code",
   "execution_count": null,
   "id": "4db869c2",
   "metadata": {},
   "outputs": [],
   "source": [
    "# quit Chrome, safe energy, ram and maintaining good practice\n",
    "browser.quit()"
   ]
  },
  {
   "cell_type": "code",
   "execution_count": null,
   "id": "0b4d40f5",
   "metadata": {},
   "outputs": [],
   "source": [
    "image_urls"
   ]
  },
  {
   "cell_type": "code",
   "execution_count": null,
   "id": "2dd3add7",
   "metadata": {},
   "outputs": [],
   "source": [
    "hemisphere_image_urls = [\n",
    "    {\"title\": \"Valles Marineris Hemisphere\"},\n",
    "    {\"title\": \"Cerberus Hemisphere\"},\n",
    "    {\"title\": \"Schiaparelli Hemisphere\"},\n",
    "    {\"title\": \"Syrtis Major Hemisphere\"}]"
   ]
  },
  {
   "cell_type": "code",
   "execution_count": null,
   "id": "9f642e46",
   "metadata": {},
   "outputs": [],
   "source": [
    "pointer = 0\n",
    "for title_dict in hemisphere_image_urls:\n",
    "    title_dict.update({'img_url': image_urls[pointer]})\n",
    "    pointer += 1"
   ]
  },
  {
   "cell_type": "code",
   "execution_count": null,
   "id": "3d7d9c8d",
   "metadata": {},
   "outputs": [],
   "source": [
    "hemisphere_image_urls"
   ]
  },
  {
   "cell_type": "code",
   "execution_count": null,
   "id": "ccedaecf",
   "metadata": {},
   "outputs": [],
   "source": []
  }
 ],
 "metadata": {
  "kernelspec": {
   "display_name": "Python 3",
   "language": "python",
   "name": "python3"
  },
  "language_info": {
   "codemirror_mode": {
    "name": "ipython",
    "version": 3
   },
   "file_extension": ".py",
   "mimetype": "text/x-python",
   "name": "python",
   "nbconvert_exporter": "python",
   "pygments_lexer": "ipython3",
   "version": "3.8.8"
  }
 },
 "nbformat": 4,
 "nbformat_minor": 5
}
